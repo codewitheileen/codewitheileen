{
  "nbformat": 4,
  "nbformat_minor": 0,
  "metadata": {
    "colab": {
      "provenance": [],
      "authorship_tag": "ABX9TyOC628YELji6RyJ61q67iRy",
      "include_colab_link": true
    },
    "kernelspec": {
      "name": "python3",
      "display_name": "Python 3"
    },
    "language_info": {
      "name": "python"
    }
  },
  "cells": [
    {
      "cell_type": "markdown",
      "metadata": {
        "id": "view-in-github",
        "colab_type": "text"
      },
      "source": [
        "<a href=\"https://colab.research.google.com/github/codewitheileen/codewitheileen/blob/main/user_input_py.ipynb\" target=\"_parent\"><img src=\"https://colab.research.google.com/assets/colab-badge.svg\" alt=\"Open In Colab\"/></a>"
      ]
    },
    {
      "cell_type": "code",
      "execution_count": 12,
      "metadata": {
        "colab": {
          "base_uri": "https://localhost:8080/"
        },
        "id": "xzCV8hx3jS6o",
        "outputId": "3dfaf4b1-1300-4f4b-bf32-0be3ae8fb048"
      },
      "outputs": [
        {
          "output_type": "stream",
          "name": "stdout",
          "text": [
            "Enter your name:eileen\n",
            "Enter your age:19\n",
            "Enter your location:nairobi\n",
            "Hello eileen, you are 19 years old, and live in nairobi.\n"
          ]
        }
      ],
      "source": [
        "name = input ('Enter your name:') ;\n",
        "age = input ('Enter your age:') ;\n",
        "location = input ('Enter your location:') ;\n",
        "print(f\"Hello {name}, you are {age} years old, and live in {location}.\")"
      ]
    }
  ]
}